{
	"metadata": {
		"kernelspec": {
			"name": "glue_pyspark",
			"display_name": "Glue PySpark",
			"language": "python"
		},
		"language_info": {
			"name": "Python_Glue_Session",
			"mimetype": "text/x-python",
			"codemirror_mode": {
				"name": "python",
				"version": 3
			},
			"pygments_lexer": "python3",
			"file_extension": ".py"
		}
	},
	"nbformat_minor": 4,
	"nbformat": 4,
	"cells": [
		{
			"cell_type": "markdown",
			"source": "# AWS Glue Studio Notebook\n##### You are now running a AWS Glue Studio notebook; To start using your notebook you need to start an AWS Glue Interactive Session.\n",
			"metadata": {
				"editable": true,
				"trusted": true
			}
		},
		{
			"cell_type": "markdown",
			"source": "#### Optional: Run this cell to see available notebook commands (\"magics\").\n",
			"metadata": {
				"editable": true,
				"trusted": true
			}
		},
		{
			"cell_type": "code",
			"source": "%help",
			"metadata": {
				"trusted": true,
				"editable": true
			},
			"execution_count": null,
			"outputs": []
		},
		{
			"cell_type": "markdown",
			"source": "####  Run this cell to set up and start your interactive session.\n",
			"metadata": {
				"editable": true,
				"trusted": true
			}
		},
		{
			"cell_type": "code",
			"source": "%idle_timeout 2880\n%glue_version 4.0\n%worker_type G.1X\n%number_of_workers 5\n\nimport sys\nfrom awsglue.transforms import *\nfrom awsglue.utils import getResolvedOptions\nfrom pyspark.context import SparkContext\nfrom awsglue.context import GlueContext\nfrom awsglue.job import Job\n  \nsc = SparkContext.getOrCreate()\nglueContext = GlueContext(sc)\nspark = glueContext.spark_session\njob = Job(glueContext)",
			"metadata": {
				"trusted": true,
				"editable": true
			},
			"execution_count": 3,
			"outputs": [
				{
					"name": "stderr",
					"text": "You are already connected to a glueetl session baf66c07-49c3-4048-b8f9-ecf754730468.\n\nNo change will be made to the current session that is set as glueetl. The session configuration change will apply to newly created sessions.\n",
					"output_type": "stream"
				},
				{
					"name": "stdout",
					"text": "Current idle_timeout is 2880 minutes.\nidle_timeout has been set to 2880 minutes.\n",
					"output_type": "stream"
				},
				{
					"name": "stderr",
					"text": "You are already connected to a glueetl session baf66c07-49c3-4048-b8f9-ecf754730468.\n\nNo change will be made to the current session that is set as glueetl. The session configuration change will apply to newly created sessions.\n",
					"output_type": "stream"
				},
				{
					"name": "stdout",
					"text": "Setting Glue version to: 4.0\n",
					"output_type": "stream"
				},
				{
					"name": "stderr",
					"text": "You are already connected to a glueetl session baf66c07-49c3-4048-b8f9-ecf754730468.\n\nNo change will be made to the current session that is set as glueetl. The session configuration change will apply to newly created sessions.\n",
					"output_type": "stream"
				},
				{
					"name": "stdout",
					"text": "Previous worker type: G.1X\nSetting new worker type to: G.1X\n",
					"output_type": "stream"
				},
				{
					"name": "stderr",
					"text": "You are already connected to a glueetl session baf66c07-49c3-4048-b8f9-ecf754730468.\n\nNo change will be made to the current session that is set as glueetl. The session configuration change will apply to newly created sessions.\n",
					"output_type": "stream"
				},
				{
					"name": "stdout",
					"text": "Previous number of workers: 5\nSetting new number of workers to: 5\n\n",
					"output_type": "stream"
				}
			]
		},
		{
			"cell_type": "code",
			"source": "# Read from the customers table in the glue data catalog using a dynamic frame\ndynamicFrameCustomers = glueContext.create_dynamic_frame.from_catalog(\ndatabase = \"mygludatabse\",\ntable_name = \"customers\"\n)\n# Show the top 10 rows from the dynamic dataframe\ndynamicFrameCustomers.show(10)",
			"metadata": {
				"trusted": true,
				"tags": []
			},
			"execution_count": 5,
			"outputs": [
				{
					"name": "stdout",
					"text": "{\"col0\": \"\"}\n{\"col0\": \"Customerid\", \"col1\": \"Firstname\", \"col2\": \"Lastname\", \"col3\": \"Fullname\"}\n{\"col0\": \"293\", \"col1\": \"Catherine\", \"col2\": \"Abel\", \"col3\": \"Catherine Abel\"}\n{\"col0\": \"295\", \"col1\": \"Kim\", \"col2\": \"Abercrombie\", \"col3\": \"Kim Abercrombie\"}\n{\"col0\": \"297\", \"col1\": \"Humberto\", \"col2\": \"Acevedo\", \"col3\": \"Humberto Acevedo\"}\n{\"col0\": \"291\", \"col1\": \"Gustavo\", \"col2\": \"Achong\", \"col3\": \"Gustavo Achong\"}\n{\"col0\": \"299\", \"col1\": \"Pilar\", \"col2\": \"Ackerman\", \"col3\": \"Pilar Ackerman\"}\n{\"col0\": \"305\", \"col1\": \"Carla\", \"col2\": \"Adams\", \"col3\": \"Carla Adams\"}\n{\"col0\": \"301\", \"col1\": \"Frances\", \"col2\": \"Adams\", \"col3\": \"Frances Adams\"}\n{\"col0\": \"307\", \"col1\": \"Jay\", \"col2\": \"Adams\", \"col3\": \"Jay Adams\"}\n",
					"output_type": "stream"
				}
			]
		},
		{
			"cell_type": "code",
			"source": "# Check types in dynamic frame\ndynamicFrameCustomers.printSchema()",
			"metadata": {
				"trusted": true,
				"tags": []
			},
			"execution_count": 6,
			"outputs": [
				{
					"name": "stdout",
					"text": "root\n|-- col0: string\n|-- col1: string\n|-- col2: string\n|-- col3: string\n",
					"output_type": "stream"
				}
			]
		},
		{
			"cell_type": "code",
			"source": "# Count The Number of Rows in a Dynamic Dataframe\ndynamicFrameCustomers.count()",
			"metadata": {
				"trusted": true,
				"tags": []
			},
			"execution_count": 7,
			"outputs": [
				{
					"name": "stdout",
					"text": "637\n",
					"output_type": "stream"
				}
			]
		},
		{
			"cell_type": "code",
			"source": "# Selecting certain fields from a Dynamic DataFrame\ndyfCustomerSelectFields = dynamicFrameCustomers.select_fields([\"customerid\",\n\"fullname\"])\n# Show top 10\ndyfCustomerSelectFields.show(10)\n",
			"metadata": {
				"trusted": true,
				"tags": []
			},
			"execution_count": 8,
			"outputs": [
				{
					"name": "stdout",
					"text": "{}\n{}\n{}\n{}\n{}\n{}\n{}\n{}\n{}\n{}\n",
					"output_type": "stream"
				}
			]
		},
		{
			"cell_type": "code",
			"source": "#Drop Fields of Dynamic Frame\ndyfCustomerDropFields = dynamicFrameCustomers.drop_fields([\"firstname\",\"lastname\"])\n# Show Top 10 rows of dyfCustomerDropFields Dynamic Frame\ndyfCustomerDropFields.show(10)\n",
			"metadata": {
				"trusted": true,
				"tags": []
			},
			"execution_count": 10,
			"outputs": [
				{
					"name": "stdout",
					"text": "{\"col0\": \"\"}\n{\"col0\": \"Customerid\", \"col1\": \"Firstname\", \"col2\": \"Lastname\", \"col3\": \"Fullname\"}\n{\"col0\": \"293\", \"col1\": \"Catherine\", \"col2\": \"Abel\", \"col3\": \"Catherine Abel\"}\n{\"col0\": \"295\", \"col1\": \"Kim\", \"col2\": \"Abercrombie\", \"col3\": \"Kim Abercrombie\"}\n{\"col0\": \"297\", \"col1\": \"Humberto\", \"col2\": \"Acevedo\", \"col3\": \"Humberto Acevedo\"}\n{\"col0\": \"291\", \"col1\": \"Gustavo\", \"col2\": \"Achong\", \"col3\": \"Gustavo Achong\"}\n{\"col0\": \"299\", \"col1\": \"Pilar\", \"col2\": \"Ackerman\", \"col3\": \"Pilar Ackerman\"}\n{\"col0\": \"305\", \"col1\": \"Carla\", \"col2\": \"Adams\", \"col3\": \"Carla Adams\"}\n{\"col0\": \"301\", \"col1\": \"Frances\", \"col2\": \"Adams\", \"col3\": \"Frances Adams\"}\n{\"col0\": \"307\", \"col1\": \"Jay\", \"col2\": \"Adams\", \"col3\": \"Jay Adams\"}\n",
					"output_type": "stream"
				}
			]
		},
		{
			"cell_type": "code",
			"source": "# Mapping array for column rename fullname -> name\nmapping=[(\"customerid\", \"string\", \"customerid\",\"string\"),(\"fullname\", \"string\",\n\"name\", \"string\")]\n# Apply the mapping to rename fullname -> name\ndfyMapping = ApplyMapping.apply(\nframe = dyfCustomerDropFields,\nmappings = mapping,\ntransformation_ctx = \"applymapping1\"\n)\n# show the new dynamic frame with name column\ndfyMapping.show(10)",
			"metadata": {
				"trusted": true,
				"tags": []
			},
			"execution_count": 11,
			"outputs": [
				{
					"name": "stdout",
					"text": "{}\n{}\n{}\n{}\n{}\n{}\n{}\n{}\n{}\n{}\n",
					"output_type": "stream"
				}
			]
		},
		{
			"cell_type": "code",
			"source": "# Filter dynamicFrameCustomers for customers who have the last name Adams\ndyfFilter= Filter.apply(frame = dynamicFrameCustomers,\nf = lambda x: x[\"lastname\"] in \"Adams\"\n)\n# Show the top 10 customers from the filtered Dynamic frame\ndyfFilter.show(10)",
			"metadata": {
				"trusted": true,
				"tags": []
			},
			"execution_count": 12,
			"outputs": [
				{
					"name": "stdout",
					"text": "\n",
					"output_type": "stream"
				}
			]
		},
		{
			"cell_type": "code",
			"source": "# Read from the customers table in the glue data catalog using a dynamic frame\ndynamicFrameOrders = glueContext.create_dynamic_frame.from_catalog(\ndatabase = \"mygludatabse\",\ntable_name = \"orders\"\n)\n# show top 10 rows of orders table\ndynamicFrameOrders.show(10)\n",
			"metadata": {
				"trusted": true,
				"tags": []
			},
			"execution_count": 14,
			"outputs": [
				{
					"name": "stdout",
					"text": "{\"col0\": \"SalesOrderID\", \"col1\": \"SalesOrderDetailID\", \"col2\": \"OrderDate\", \"col3\": \"DueDate\", \"col4\": \"ShipDate\", \"col5\": \"EmployeeID\", \"col6\": \"CustomerID\", \"col7\": \"SubTotal\", \"col8\": \"TaxAmt\", \"col9\": \"Freight\", \"col10\": \"TotalDue\", \"col11\": \"ProductID\", \"col12\": \"OrderQty\", \"col13\": \"UnitPrice\", \"col14\": \"UnitPriceDiscount\", \"col15\": \"LineTotal\"}\n{\"col0\": \"43659\", \"col1\": \"1\", \"col2\": \"5/31/2011\", \"col3\": \"6/12/2011\", \"col4\": \"6/7/2011\", \"col5\": \"279\", \"col6\": \"1045\", \"col7\": \"20565.6206\", \"col8\": \"1971.5149\", \"col9\": \"616.0984\", \"col10\": \"23153.2339\", \"col11\": \"776\", \"col12\": \"1\", \"col13\": \"2024.994\", \"col14\": \"0\", \"col15\": \"2024.994\"}\n{\"col0\": \"43659\", \"col1\": \"2\", \"col2\": \"5/31/2011\", \"col3\": \"6/12/2011\", \"col4\": \"6/7/2011\", \"col5\": \"279\", \"col6\": \"1045\", \"col7\": \"20565.6206\", \"col8\": \"1971.5149\", \"col9\": \"616.0984\", \"col10\": \"23153.2339\", \"col11\": \"777\", \"col12\": \"3\", \"col13\": \"2024.994\", \"col14\": \"0\", \"col15\": \"6074.982\"}\n{\"col0\": \"43659\", \"col1\": \"3\", \"col2\": \"5/31/2011\", \"col3\": \"6/12/2011\", \"col4\": \"6/7/2011\", \"col5\": \"279\", \"col6\": \"1045\", \"col7\": \"20565.6206\", \"col8\": \"1971.5149\", \"col9\": \"616.0984\", \"col10\": \"23153.2339\", \"col11\": \"778\", \"col12\": \"1\", \"col13\": \"2024.994\", \"col14\": \"0\", \"col15\": \"2024.994\"}\n{\"col0\": \"43659\", \"col1\": \"4\", \"col2\": \"5/31/2011\", \"col3\": \"6/12/2011\", \"col4\": \"6/7/2011\", \"col5\": \"279\", \"col6\": \"1045\", \"col7\": \"20565.6206\", \"col8\": \"1971.5149\", \"col9\": \"616.0984\", \"col10\": \"23153.2339\", \"col11\": \"771\", \"col12\": \"1\", \"col13\": \"2039.994\", \"col14\": \"0\", \"col15\": \"2039.994\"}\n{\"col0\": \"43659\", \"col1\": \"5\", \"col2\": \"5/31/2011\", \"col3\": \"6/12/2011\", \"col4\": \"6/7/2011\", \"col5\": \"279\", \"col6\": \"1045\", \"col7\": \"20565.6206\", \"col8\": \"1971.5149\", \"col9\": \"616.0984\", \"col10\": \"23153.2339\", \"col11\": \"772\", \"col12\": \"1\", \"col13\": \"2039.994\", \"col14\": \"0\", \"col15\": \"2039.994\"}\n{\"col0\": \"43659\", \"col1\": \"6\", \"col2\": \"5/31/2011\", \"col3\": \"6/12/2011\", \"col4\": \"6/7/2011\", \"col5\": \"279\", \"col6\": \"1045\", \"col7\": \"20565.6206\", \"col8\": \"1971.5149\", \"col9\": \"616.0984\", \"col10\": \"23153.2339\", \"col11\": \"773\", \"col12\": \"2\", \"col13\": \"2039.994\", \"col14\": \"0\", \"col15\": \"4079.988\"}\n{\"col0\": \"43659\", \"col1\": \"7\", \"col2\": \"5/31/2011\", \"col3\": \"6/12/2011\", \"col4\": \"6/7/2011\", \"col5\": \"279\", \"col6\": \"1045\", \"col7\": \"20565.6206\", \"col8\": \"1971.5149\", \"col9\": \"616.0984\", \"col10\": \"23153.2339\", \"col11\": \"774\", \"col12\": \"1\", \"col13\": \"2039.994\", \"col14\": \"0\", \"col15\": \"2039.994\"}\n{\"col0\": \"43659\", \"col1\": \"8\", \"col2\": \"5/31/2011\", \"col3\": \"6/12/2011\", \"col4\": \"6/7/2011\", \"col5\": \"279\", \"col6\": \"1045\", \"col7\": \"20565.6206\", \"col8\": \"1971.5149\", \"col9\": \"616.0984\", \"col10\": \"23153.2339\", \"col11\": \"714\", \"col12\": \"3\", \"col13\": \"28.8404\", \"col14\": \"0\", \"col15\": \"86.5212\"}\n{\"col0\": \"43659\", \"col1\": \"9\", \"col2\": \"5/31/2011\", \"col3\": \"6/12/2011\", \"col4\": \"6/7/2011\", \"col5\": \"279\", \"col6\": \"1045\", \"col7\": \"20565.6206\", \"col8\": \"1971.5149\", \"col9\": \"616.0984\", \"col10\": \"23153.2339\", \"col11\": \"716\", \"col12\": \"1\", \"col13\": \"28.8404\", \"col14\": \"0\", \"col15\": \"28.8404\"}\n",
					"output_type": "stream"
				}
			]
		},
		{
			"cell_type": "code",
			"source": "# Join two dynamic frames on an equality join\ndyfjoin = dynamicFrameCustomers.join([\"customerid\"],[\"customerid\"],dynamicFrameOrders)\n# show top 10 rows for the joined dynamic\ndyfjoin.show(10)",
			"metadata": {
				"trusted": true,
				"tags": []
			},
			"execution_count": 15,
			"outputs": [
				{
					"name": "stdout",
					"text": "{\"col4\": \"ShipDate\", \"col13\": \"UnitPrice\", \"col7\": \"SubTotal\", \"col10\": \"TotalDue\", \"col1\": \"SalesOrderDetailID\", \"col9\": \"Freight\", \"col3\": \"DueDate\", \"col12\": \"OrderQty\", \"col6\": \"CustomerID\", \"col15\": \"LineTotal\", \"col0\": \"SalesOrderID\", \".col0\": \"\", \"col14\": \"UnitPriceDiscount\", \"col8\": \"TaxAmt\", \"col2\": \"OrderDate\", \"col11\": \"ProductID\", \"col5\": \"EmployeeID\"}\n{\"col4\": \"6/7/2011\", \"col13\": \"2024.994\", \"col7\": \"20565.6206\", \"col10\": \"23153.2339\", \"col1\": \"1\", \"col9\": \"616.0984\", \"col3\": \"6/12/2011\", \"col12\": \"1\", \"col6\": \"1045\", \"col15\": \"2024.994\", \"col0\": \"43659\", \".col0\": \"\", \"col14\": \"0\", \"col8\": \"1971.5149\", \"col2\": \"5/31/2011\", \"col11\": \"776\", \"col5\": \"279\"}\n{\"col4\": \"6/7/2011\", \"col13\": \"2024.994\", \"col7\": \"20565.6206\", \"col10\": \"23153.2339\", \"col1\": \"2\", \"col9\": \"616.0984\", \"col3\": \"6/12/2011\", \"col12\": \"3\", \"col6\": \"1045\", \"col15\": \"6074.982\", \"col0\": \"43659\", \".col0\": \"\", \"col14\": \"0\", \"col8\": \"1971.5149\", \"col2\": \"5/31/2011\", \"col11\": \"777\", \"col5\": \"279\"}\n{\"col4\": \"6/7/2011\", \"col13\": \"2024.994\", \"col7\": \"20565.6206\", \"col10\": \"23153.2339\", \"col1\": \"3\", \"col9\": \"616.0984\", \"col3\": \"6/12/2011\", \"col12\": \"1\", \"col6\": \"1045\", \"col15\": \"2024.994\", \"col0\": \"43659\", \".col0\": \"\", \"col14\": \"0\", \"col8\": \"1971.5149\", \"col2\": \"5/31/2011\", \"col11\": \"778\", \"col5\": \"279\"}\n{\"col4\": \"6/7/2011\", \"col13\": \"2039.994\", \"col7\": \"20565.6206\", \"col10\": \"23153.2339\", \"col1\": \"4\", \"col9\": \"616.0984\", \"col3\": \"6/12/2011\", \"col12\": \"1\", \"col6\": \"1045\", \"col15\": \"2039.994\", \"col0\": \"43659\", \".col0\": \"\", \"col14\": \"0\", \"col8\": \"1971.5149\", \"col2\": \"5/31/2011\", \"col11\": \"771\", \"col5\": \"279\"}\n{\"col4\": \"6/7/2011\", \"col13\": \"2039.994\", \"col7\": \"20565.6206\", \"col10\": \"23153.2339\", \"col1\": \"5\", \"col9\": \"616.0984\", \"col3\": \"6/12/2011\", \"col12\": \"1\", \"col6\": \"1045\", \"col15\": \"2039.994\", \"col0\": \"43659\", \".col0\": \"\", \"col14\": \"0\", \"col8\": \"1971.5149\", \"col2\": \"5/31/2011\", \"col11\": \"772\", \"col5\": \"279\"}\n{\"col4\": \"6/7/2011\", \"col13\": \"2039.994\", \"col7\": \"20565.6206\", \"col10\": \"23153.2339\", \"col1\": \"6\", \"col9\": \"616.0984\", \"col3\": \"6/12/2011\", \"col12\": \"2\", \"col6\": \"1045\", \"col15\": \"4079.988\", \"col0\": \"43659\", \".col0\": \"\", \"col14\": \"0\", \"col8\": \"1971.5149\", \"col2\": \"5/31/2011\", \"col11\": \"773\", \"col5\": \"279\"}\n{\"col4\": \"6/7/2011\", \"col13\": \"2039.994\", \"col7\": \"20565.6206\", \"col10\": \"23153.2339\", \"col1\": \"7\", \"col9\": \"616.0984\", \"col3\": \"6/12/2011\", \"col12\": \"1\", \"col6\": \"1045\", \"col15\": \"2039.994\", \"col0\": \"43659\", \".col0\": \"\", \"col14\": \"0\", \"col8\": \"1971.5149\", \"col2\": \"5/31/2011\", \"col11\": \"774\", \"col5\": \"279\"}\n{\"col4\": \"6/7/2011\", \"col13\": \"28.8404\", \"col7\": \"20565.6206\", \"col10\": \"23153.2339\", \"col1\": \"8\", \"col9\": \"616.0984\", \"col3\": \"6/12/2011\", \"col12\": \"3\", \"col6\": \"1045\", \"col15\": \"86.5212\", \"col0\": \"43659\", \".col0\": \"\", \"col14\": \"0\", \"col8\": \"1971.5149\", \"col2\": \"5/31/2011\", \"col11\": \"714\", \"col5\": \"279\"}\n{\"col4\": \"6/7/2011\", \"col13\": \"28.8404\", \"col7\": \"20565.6206\", \"col10\": \"23153.2339\", \"col1\": \"9\", \"col9\": \"616.0984\", \"col3\": \"6/12/2011\", \"col12\": \"1\", \"col6\": \"1045\", \"col15\": \"28.8404\", \"col0\": \"43659\", \".col0\": \"\", \"col14\": \"0\", \"col8\": \"1971.5149\", \"col2\": \"5/31/2011\", \"col11\": \"716\", \"col5\": \"279\"}\n",
					"output_type": "stream"
				}
			]
		},
		{
			"cell_type": "code",
			"source": "# Write down the data in a Dynamic Frame to S3 location\noutput_path = \"s3://myawsgluebkt/ write_down_dyf_to_s3/\"\n\nglueContext.write_dynamic_frame.from_options(\n    frame=dynamicFrameCustomers,\n    connection_type=\"s3\",\n    connection_options={\"path\": output_path},\n    format=\"csv\",\n    format_options={\"separator\": \",\"},\n    transformation_ctx=\"datasink2\"\n)\n",
			"metadata": {
				"trusted": true,
				"tags": []
			},
			"execution_count": 16,
			"outputs": [
				{
					"name": "stdout",
					"text": "<awsglue.dynamicframe.DynamicFrame object at 0x7feaa79fb3a0>\n",
					"output_type": "stream"
				}
			]
		},
		{
			"cell_type": "code",
			"source": "# write data from the dynamicFrameCustomers to customers_write_dyf table usingthe meta data stored in the glue data catalog\nglueContext.write_dynamic_frame.from_catalog(\nframe=dynamicFrameCustomers,\ndatabase = \"mygludatabse\",\ntable_name = \"customers_write_dyf\"\n)",
			"metadata": {
				"trusted": true,
				"tags": []
			},
			"execution_count": 18,
			"outputs": [
				{
					"name": "stdout",
					"text": "<awsglue.dynamicframe.DynamicFrame object at 0x7feaa79f8760>\n",
					"output_type": "stream"
				}
			]
		},
		{
			"cell_type": "code",
			"source": "# Dynamic Frame to Spark DataFrame\nsparkDf = dynamicFrameCustomers.toDF()\n#show spark DF\nsparkDf.show()",
			"metadata": {
				"trusted": true,
				"tags": []
			},
			"execution_count": 19,
			"outputs": [
				{
					"name": "stdout",
					"text": "+----------+---------+-----------+----------------+\n|      col0|     col1|       col2|            col3|\n+----------+---------+-----------+----------------+\n|          |     null|       null|            null|\n|Customerid|Firstname|   Lastname|        Fullname|\n|       293|Catherine|       Abel|  Catherine Abel|\n|       295|      Kim|Abercrombie| Kim Abercrombie|\n|       297| Humberto|    Acevedo|Humberto Acevedo|\n|       291|  Gustavo|     Achong|  Gustavo Achong|\n|       299|    Pilar|   Ackerman|  Pilar Ackerman|\n|       305|    Carla|      Adams|     Carla Adams|\n|       301|  Frances|      Adams|   Frances Adams|\n|       307|      Jay|      Adams|       Jay Adams|\n|       309|   Ronald|      Adina|    Ronald Adina|\n|       311|   Samuel|   Agcaoili| Samuel Agcaoili|\n|       313|    James|    Aguilar|   James Aguilar|\n|       315|   Robert|   Ahlering| Robert Ahlering|\n|       319|      Kim|      Akers|       Kim Akers|\n|       441|  Stanley|       Alan|    Stanley Alan|\n|       323|      Amy|    Alberts|     Amy Alberts|\n|       325|     Anna|   Albright|   Anna Albright|\n|       327|   Milton|     Albury|   Milton Albury|\n|       329|     Paul|     Alcorn|     Paul Alcorn|\n+----------+---------+-----------+----------------+\nonly showing top 20 rows\n\n/opt/amazon/spark/python/lib/pyspark.zip/pyspark/sql/dataframe.py:127: UserWarning: DataFrame constructor is internal. Do not directly use it.\n",
					"output_type": "stream"
				}
			]
		},
		{
			"cell_type": "code",
			"source": "# Select columns from spark dataframe\ndfSelect = sparkDf.select(\"col0\",\"col3\")\n# show selected\ndfSelect.show()",
			"metadata": {
				"trusted": true,
				"tags": []
			},
			"execution_count": 22,
			"outputs": [
				{
					"name": "stdout",
					"text": "+----------+----------------+\n|      col0|            col3|\n+----------+----------------+\n|          |            null|\n|Customerid|        Fullname|\n|       293|  Catherine Abel|\n|       295| Kim Abercrombie|\n|       297|Humberto Acevedo|\n|       291|  Gustavo Achong|\n|       299|  Pilar Ackerman|\n|       305|     Carla Adams|\n|       301|   Frances Adams|\n|       307|       Jay Adams|\n|       309|    Ronald Adina|\n|       311| Samuel Agcaoili|\n|       313|   James Aguilar|\n|       315| Robert Ahlering|\n|       319|       Kim Akers|\n|       441|    Stanley Alan|\n|       323|     Amy Alberts|\n|       325|   Anna Albright|\n|       327|   Milton Albury|\n|       329|     Paul Alcorn|\n+----------+----------------+\nonly showing top 20 rows\n",
					"output_type": "stream"
				}
			]
		},
		{
			"cell_type": "code",
			"source": "#import lit from sql functions\nfrom pyspark.sql.functions import lit\n# Add new column to spark dataframe\ndfNewColumn = sparkDf.withColumn(\"date\", lit(\"2022-07-24\"))\n# show df with new column\ndfNewColumn.show()",
			"metadata": {
				"trusted": true,
				"tags": []
			},
			"execution_count": 23,
			"outputs": [
				{
					"name": "stdout",
					"text": "+----------+---------+-----------+----------------+----------+\n|      col0|     col1|       col2|            col3|      date|\n+----------+---------+-----------+----------------+----------+\n|          |     null|       null|            null|2022-07-24|\n|Customerid|Firstname|   Lastname|        Fullname|2022-07-24|\n|       293|Catherine|       Abel|  Catherine Abel|2022-07-24|\n|       295|      Kim|Abercrombie| Kim Abercrombie|2022-07-24|\n|       297| Humberto|    Acevedo|Humberto Acevedo|2022-07-24|\n|       291|  Gustavo|     Achong|  Gustavo Achong|2022-07-24|\n|       299|    Pilar|   Ackerman|  Pilar Ackerman|2022-07-24|\n|       305|    Carla|      Adams|     Carla Adams|2022-07-24|\n|       301|  Frances|      Adams|   Frances Adams|2022-07-24|\n|       307|      Jay|      Adams|       Jay Adams|2022-07-24|\n|       309|   Ronald|      Adina|    Ronald Adina|2022-07-24|\n|       311|   Samuel|   Agcaoili| Samuel Agcaoili|2022-07-24|\n|       313|    James|    Aguilar|   James Aguilar|2022-07-24|\n|       315|   Robert|   Ahlering| Robert Ahlering|2022-07-24|\n|       319|      Kim|      Akers|       Kim Akers|2022-07-24|\n|       441|  Stanley|       Alan|    Stanley Alan|2022-07-24|\n|       323|      Amy|    Alberts|     Amy Alberts|2022-07-24|\n|       325|     Anna|   Albright|   Anna Albright|2022-07-24|\n|       327|   Milton|     Albury|   Milton Albury|2022-07-24|\n|       329|     Paul|     Alcorn|     Paul Alcorn|2022-07-24|\n+----------+---------+-----------+----------------+----------+\nonly showing top 20 rows\n",
					"output_type": "stream"
				}
			]
		},
		{
			"cell_type": "code",
			"source": "#import concat from functions\nfrom pyspark.sql.functions import concat\n# create another full name column\ndfNewFullName = sparkDf.withColumn(\"new_full_name\",concat(\"col1\",concat(lit(' '),\"col2\")))\n#show full name column\ndfNewFullName.show()",
			"metadata": {
				"trusted": true,
				"tags": []
			},
			"execution_count": 26,
			"outputs": [
				{
					"name": "stdout",
					"text": "+----------+---------+-----------+----------------+------------------+\n|      col0|     col1|       col2|            col3|     new_full_name|\n+----------+---------+-----------+----------------+------------------+\n|          |     null|       null|            null|              null|\n|Customerid|Firstname|   Lastname|        Fullname|Firstname Lastname|\n|       293|Catherine|       Abel|  Catherine Abel|    Catherine Abel|\n|       295|      Kim|Abercrombie| Kim Abercrombie|   Kim Abercrombie|\n|       297| Humberto|    Acevedo|Humberto Acevedo|  Humberto Acevedo|\n|       291|  Gustavo|     Achong|  Gustavo Achong|    Gustavo Achong|\n|       299|    Pilar|   Ackerman|  Pilar Ackerman|    Pilar Ackerman|\n|       305|    Carla|      Adams|     Carla Adams|       Carla Adams|\n|       301|  Frances|      Adams|   Frances Adams|     Frances Adams|\n|       307|      Jay|      Adams|       Jay Adams|         Jay Adams|\n|       309|   Ronald|      Adina|    Ronald Adina|      Ronald Adina|\n|       311|   Samuel|   Agcaoili| Samuel Agcaoili|   Samuel Agcaoili|\n|       313|    James|    Aguilar|   James Aguilar|     James Aguilar|\n|       315|   Robert|   Ahlering| Robert Ahlering|   Robert Ahlering|\n|       319|      Kim|      Akers|       Kim Akers|         Kim Akers|\n|       441|  Stanley|       Alan|    Stanley Alan|      Stanley Alan|\n|       323|      Amy|    Alberts|     Amy Alberts|       Amy Alberts|\n|       325|     Anna|   Albright|   Anna Albright|     Anna Albright|\n|       327|   Milton|     Albury|   Milton Albury|     Milton Albury|\n|       329|     Paul|     Alcorn|     Paul Alcorn|       Paul Alcorn|\n+----------+---------+-----------+----------------+------------------+\nonly showing top 20 rows\n",
					"output_type": "stream"
				}
			]
		},
		{
			"cell_type": "code",
			"source": "# Drop column from spark dataframe\ndfDropCol = sparkDf.drop(\"firstname\",\"lastname\")\n#show dropped column df\ndfDropCol.show()",
			"metadata": {
				"trusted": true,
				"tags": []
			},
			"execution_count": 27,
			"outputs": [
				{
					"name": "stdout",
					"text": "+----------+---------+-----------+----------------+\n|      col0|     col1|       col2|            col3|\n+----------+---------+-----------+----------------+\n|          |     null|       null|            null|\n|Customerid|Firstname|   Lastname|        Fullname|\n|       293|Catherine|       Abel|  Catherine Abel|\n|       295|      Kim|Abercrombie| Kim Abercrombie|\n|       297| Humberto|    Acevedo|Humberto Acevedo|\n|       291|  Gustavo|     Achong|  Gustavo Achong|\n|       299|    Pilar|   Ackerman|  Pilar Ackerman|\n|       305|    Carla|      Adams|     Carla Adams|\n|       301|  Frances|      Adams|   Frances Adams|\n|       307|      Jay|      Adams|       Jay Adams|\n|       309|   Ronald|      Adina|    Ronald Adina|\n|       311|   Samuel|   Agcaoili| Samuel Agcaoili|\n|       313|    James|    Aguilar|   James Aguilar|\n|       315|   Robert|   Ahlering| Robert Ahlering|\n|       319|      Kim|      Akers|       Kim Akers|\n|       441|  Stanley|       Alan|    Stanley Alan|\n|       323|      Amy|    Alberts|     Amy Alberts|\n|       325|     Anna|   Albright|   Anna Albright|\n|       327|   Milton|     Albury|   Milton Albury|\n|       329|     Paul|     Alcorn|     Paul Alcorn|\n+----------+---------+-----------+----------------+\nonly showing top 20 rows\n",
					"output_type": "stream"
				}
			]
		},
		{
			"cell_type": "code",
			"source": "# Rename column in Spark dataframe\ndfRenameCol = sparkDf.withColumnRenamed(\"fullname\",\"full_name\")\n#show renamed column dataframe\ndfRenameCol.show()",
			"metadata": {
				"trusted": true,
				"tags": []
			},
			"execution_count": 28,
			"outputs": [
				{
					"name": "stdout",
					"text": "+----------+---------+-----------+----------------+\n|      col0|     col1|       col2|            col3|\n+----------+---------+-----------+----------------+\n|          |     null|       null|            null|\n|Customerid|Firstname|   Lastname|        Fullname|\n|       293|Catherine|       Abel|  Catherine Abel|\n|       295|      Kim|Abercrombie| Kim Abercrombie|\n|       297| Humberto|    Acevedo|Humberto Acevedo|\n|       291|  Gustavo|     Achong|  Gustavo Achong|\n|       299|    Pilar|   Ackerman|  Pilar Ackerman|\n|       305|    Carla|      Adams|     Carla Adams|\n|       301|  Frances|      Adams|   Frances Adams|\n|       307|      Jay|      Adams|       Jay Adams|\n|       309|   Ronald|      Adina|    Ronald Adina|\n|       311|   Samuel|   Agcaoili| Samuel Agcaoili|\n|       313|    James|    Aguilar|   James Aguilar|\n|       315|   Robert|   Ahlering| Robert Ahlering|\n|       319|      Kim|      Akers|       Kim Akers|\n|       441|  Stanley|       Alan|    Stanley Alan|\n|       323|      Amy|    Alberts|     Amy Alberts|\n|       325|     Anna|   Albright|   Anna Albright|\n|       327|   Milton|     Albury|   Milton Albury|\n|       329|     Paul|     Alcorn|     Paul Alcorn|\n+----------+---------+-----------+----------------+\nonly showing top 20 rows\n",
					"output_type": "stream"
				}
			]
		},
		{
			"cell_type": "code",
			"source": "# Group by lastname then print counts of lastname and show\nsparkDf.groupBy(\"col2\").count().show()\n",
			"metadata": {
				"trusted": true,
				"tags": []
			},
			"execution_count": 30,
			"outputs": [
				{
					"name": "stdout",
					"text": "+--------+-----+\n|    col2|count|\n+--------+-----+\n|  Achong|    1|\n|  Bailey|    1|\n|   Caron|    1|\n|   Casts|    1|\n|   Curry|    1|\n| Desalvo|    1|\n| Dockter|    1|\n|    Dyck|    1|\n|  Farino|    1|\n| Fluegel|    1|\n|   Ganio|    1|\n|   Gimmi|    1|\n|Gonzales|    2|\n|   Graff|    1|\n|   Groth|    1|\n|    Hass|    1|\n| Hassall|    1|\n|Hillmann|    1|\n| Hodgson|    1|\n|   Ihrig|    1|\n+--------+-----+\nonly showing top 20 rows\n",
					"output_type": "stream"
				}
			]
		},
		{
			"cell_type": "code",
			"source": "# Filter spark DataFrame for customers who have the last name Adams\nsparkDf.filter(sparkDf[\"col2\"] == \"Adams\").show()",
			"metadata": {
				"trusted": true,
				"tags": []
			},
			"execution_count": 32,
			"outputs": [
				{
					"name": "stdout",
					"text": "+----+-------+-----+-------------+\n|col0|   col1| col2|         col3|\n+----+-------+-----+-------------+\n| 305|  Carla|Adams|  Carla Adams|\n| 301|Frances|Adams|Frances Adams|\n| 307|    Jay|Adams|    Jay Adams|\n+----+-------+-----+-------------+\n",
					"output_type": "stream"
				}
			]
		},
		{
			"cell_type": "code",
			"source": "# Where clause spark DataFrame for customers who have the last name Adams\nsparkDf.where(\"col2 =='Adams'\").show()",
			"metadata": {
				"trusted": true,
				"tags": []
			},
			"execution_count": 34,
			"outputs": [
				{
					"name": "stdout",
					"text": "+----+-------+-----+-------------+\n|col0|   col1| col2|         col3|\n+----+-------+-----+-------------+\n| 305|  Carla|Adams|  Carla Adams|\n| 301|Frances|Adams|Frances Adams|\n| 307|    Jay|Adams|    Jay Adams|\n+----+-------+-----+-------------+\n",
					"output_type": "stream"
				}
			]
		},
		{
			"cell_type": "code",
			"source": "# Read from the customers table in the glue data catalog using a dynamic frame and convert to spark dataframe\ndfOrders = glueContext.create_dynamic_frame.from_catalog(\ndatabase = \"mygludatabse\",\ntable_name = \"orders\"\n).toDF()",
			"metadata": {
				"trusted": true,
				"tags": []
			},
			"execution_count": 37,
			"outputs": [
				{
					"name": "stdout",
					"text": "\n",
					"output_type": "stream"
				}
			]
		},
		{
			"cell_type": "code",
			"source": "# Inner Join Customers Spark DF to Orders Spark DF\nsparkDf.join(dfOrders,sparkDf.customerid ==\ndfOrders.Customerid,\"inner\").show(truncate=False)",
			"metadata": {
				"trusted": true,
				"tags": []
			},
			"execution_count": 41,
			"outputs": [
				{
					"name": "stdout",
					"text": "AttributeError: 'DataFrame' object has no attribute 'customerid'\n",
					"output_type": "stream"
				}
			]
		},
		{
			"cell_type": "code",
			"source": "#Get customers that only have surname Adams\ndfAdams = sparkDf.where(\"lastname =='Adams'\")\n# inner join on Adams DF and orders\ndfAdams.join(dfOrders,dfAdams.customerid ==\ndfOrders.customerid,\"inner\").show()",
			"metadata": {
				"trusted": true,
				"tags": []
			},
			"execution_count": 42,
			"outputs": [
				{
					"name": "stdout",
					"text": "AnalysisException: Column 'lastname' does not exist. Did you mean one of the following? [col0, col1, col2, col3]; line 1 pos 0;\n'Filter ('lastname = Adams)\n+- LogicalRDD [col0#0, col1#1, col2#2, col3#3], false\n\n",
					"output_type": "stream"
				}
			]
		},
		{
			"cell_type": "code",
			"source": "#left join on orders and adams df\ndfOrders.join(dfAdams,dfAdams.customerid ==\ndfOrders.customerid,\"left\").show(100)",
			"metadata": {
				"trusted": true,
				"tags": []
			},
			"execution_count": 43,
			"outputs": [
				{
					"name": "stdout",
					"text": "NameError: name 'dfAdams' is not defined\n",
					"output_type": "stream"
				}
			]
		},
		{
			"cell_type": "code",
			"source": "",
			"metadata": {},
			"execution_count": null,
			"outputs": []
		}
	]
}